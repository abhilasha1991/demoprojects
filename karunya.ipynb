{
 "cells": [
  {
   "cell_type": "code",
   "execution_count": 4,
   "id": "fadd01b1",
   "metadata": {},
   "outputs": [
    {
     "data": {
      "text/plain": [
       "'KARUNYA,HI,I M UR,MOTHER'"
      ]
     },
     "execution_count": 4,
     "metadata": {},
     "output_type": "execute_result"
    }
   ],
   "source": [
    "(\"KARUNYA,HI,I M UR,MOTHER\")"
   ]
  },
  {
   "cell_type": "code",
   "execution_count": 5,
   "id": "eef88851",
   "metadata": {},
   "outputs": [
    {
     "data": {
      "text/plain": [
       "'THIS IS A STRING'"
      ]
     },
     "execution_count": 5,
     "metadata": {},
     "output_type": "execute_result"
    }
   ],
   "source": [
    "(\"THIS IS A STRING\")"
   ]
  },
  {
   "cell_type": "code",
   "execution_count": null,
   "id": "35b920d4",
   "metadata": {},
   "outputs": [],
   "source": []
  }
 ],
 "metadata": {
  "kernelspec": {
   "display_name": "Python 3 (ipykernel)",
   "language": "python",
   "name": "python3"
  },
  "language_info": {
   "codemirror_mode": {
    "name": "ipython",
    "version": 3
   },
   "file_extension": ".py",
   "mimetype": "text/x-python",
   "name": "python",
   "nbconvert_exporter": "python",
   "pygments_lexer": "ipython3",
   "version": "3.9.7"
  }
 },
 "nbformat": 4,
 "nbformat_minor": 5
}
